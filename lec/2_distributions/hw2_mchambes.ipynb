{
 "cells": [
  {
   "cell_type": "markdown",
   "metadata": {},
   "source": [
    "# HW 2"
   ]
  },
  {
   "cell_type": "markdown",
   "metadata": {},
   "source": [
    "## **Part A** Insert your answers below and save as a Word document. Show your work. Save the STATA output as an rtf file to be able to include in this document.\n",
    "\n",
    "Problem 1:\n",
    "- Calculate the mean and standard deviation for the data below. \n",
    "- Construct a stem and leaf plot and comment on the shape of the plot.\n",
    "\n",
    "Data: 10  50  35  20  11  10  10  20  40  15  20  35  10  22  10  40  10  35  25  30  29  15\n"
   ]
  },
  {
   "cell_type": "code",
   "execution_count": 64,
   "metadata": {},
   "outputs": [],
   "source": [
    "import pandas as pd\n",
    "import numpy as np\n",
    "import stemgraphic\n",
    "from scipy.stats import iqr, binom, norm, zscore\n"
   ]
  },
  {
   "cell_type": "code",
   "execution_count": 65,
   "metadata": {},
   "outputs": [],
   "source": [
    "data = [10, 50, 35, 20, 11, 10, 10, 20, 40, 15, 20, 35, 10, 22, 10, 40, 10, 35, 25, 30, 29, 15]"
   ]
  },
  {
   "cell_type": "code",
   "execution_count": 66,
   "metadata": {},
   "outputs": [
    {
     "data": {
      "text/plain": [
       "22.818181818181817"
      ]
     },
     "execution_count": 66,
     "metadata": {},
     "output_type": "execute_result"
    }
   ],
   "source": [
    "np.mean(data)"
   ]
  },
  {
   "cell_type": "code",
   "execution_count": 67,
   "metadata": {},
   "outputs": [
    {
     "data": {
      "text/plain": [
       "11.949272947210726"
      ]
     },
     "execution_count": 67,
     "metadata": {},
     "output_type": "execute_result"
    }
   ],
   "source": [
    "np.std(data)"
   ]
  },
  {
   "cell_type": "code",
   "execution_count": 68,
   "metadata": {},
   "outputs": [
    {
     "data": {
      "image/png": "[encoded data removed]",
      "text/plain": [
       "<Figure size 540x216 with 1 Axes>"
      ]
     },
     "metadata": {
      "needs_background": "light"
     },
     "output_type": "display_data"
    }
   ],
   "source": [
    "df = pd.Series(data)\n",
    "fig, ax = stemgraphic.stem_graphic(df, asc=False)"
   ]
  },
  {
   "cell_type": "markdown",
   "metadata": {},
   "source": [
    "Problem 2: The Excel file RTOG2trials contains patient characteristics of two RTOG randomized trials (study numbers 9003 and 9501) on testing new therapies for advanced head and neck cancer patients. Bring the data into STATA and perform the following analyses:  \n",
    "\n",
    "2.1 -  For the variables listed below specify if categorical, discrete, or continuous\n",
    "    - sn = RTOG study number, categorical\n",
    "    - cn = case number, discrete\n",
    "    - age = age in years, continuous\n",
    "    - gender = gender, categorical\n",
    "    - race = race, categorical\n",
    "2.2 - Generate summary statistics (mean, std, min, max) on the variable age for all patients  \n",
    "2.3 - Generate summary statistics (mean, std, min, max) on the variable age by study  \n",
    "2.4 - Find the 25th 50th and 75th percentiles for age (i.e. find Q1, Q2, Q3) and calculate IQR  \n",
    "2.5 - Which study has the highest percentage of Native Americans? How about Hispanics? (Hint: create a frequency table for race by study number)  \n",
    "2.6 - Generate a Boxplot of age by study (represented in one figure)  \n",
    "2.7 - Generate a histogram of age for all patients, and then histograms of age by study  \n",
    "2.8 - Describe the age distributions in these two studies based on the summary statistics and graphics  "
   ]
  },
  {
   "cell_type": "code",
   "execution_count": 69,
   "metadata": {},
   "outputs": [],
   "source": [
    "# load data\n",
    "df = pd.read_excel('../RTOG2trials Data.xls')\n",
    "\n",
    "gender_map = {1:'male', 2:'female'}\n",
    "race_map = {1:'white', 2:'hispanic', 3:'black', 4:'oriental', 6:'native_american', 7:'other'}\n",
    "\n",
    "df['gender'] = df['gender'].map(gender_map)\n",
    "df['race'] = df['race'].map(race_map)"
   ]
  },
  {
   "cell_type": "code",
   "execution_count": 70,
   "metadata": {},
   "outputs": [
    {
     "data": {
      "text/plain": [
       "count    566.000000\n",
       "mean      58.826855\n",
       "std       10.002215\n",
       "min       30.000000\n",
       "25%       52.000000\n",
       "50%       59.000000\n",
       "75%       66.000000\n",
       "max       90.000000\n",
       "Name: age, dtype: float64"
      ]
     },
     "execution_count": 70,
     "metadata": {},
     "output_type": "execute_result"
    }
   ],
   "source": [
    "# 2.2\n",
    "df['age'].describe()"
   ]
  },
  {
   "cell_type": "code",
   "execution_count": 71,
   "metadata": {},
   "outputs": [
    {
     "data": {
      "text/html": [
       "<div>\n",
       "<style scoped>\n",
       "    .dataframe tbody tr th:only-of-type {\n",
       "        vertical-align: middle;\n",
       "    }\n",
       "\n",
       "    .dataframe tbody tr th {\n",
       "        vertical-align: top;\n",
       "    }\n",
       "\n",
       "    .dataframe thead th {\n",
       "        text-align: right;\n",
       "    }\n",
       "</style>\n",
       "<table border=\"1\" class=\"dataframe\">\n",
       "  <thead>\n",
       "    <tr style=\"text-align: right;\">\n",
       "      <th></th>\n",
       "      <th>count</th>\n",
       "      <th>mean</th>\n",
       "      <th>std</th>\n",
       "      <th>min</th>\n",
       "      <th>25%</th>\n",
       "      <th>50%</th>\n",
       "      <th>75%</th>\n",
       "      <th>max</th>\n",
       "    </tr>\n",
       "    <tr>\n",
       "      <th>sn</th>\n",
       "      <th></th>\n",
       "      <th></th>\n",
       "      <th></th>\n",
       "      <th></th>\n",
       "      <th></th>\n",
       "      <th></th>\n",
       "      <th></th>\n",
       "      <th></th>\n",
       "    </tr>\n",
       "  </thead>\n",
       "  <tbody>\n",
       "    <tr>\n",
       "      <td>9003</td>\n",
       "      <td>424.0</td>\n",
       "      <td>59.945755</td>\n",
       "      <td>9.841985</td>\n",
       "      <td>30.0</td>\n",
       "      <td>53.75</td>\n",
       "      <td>60.0</td>\n",
       "      <td>67.0</td>\n",
       "      <td>90.0</td>\n",
       "    </tr>\n",
       "    <tr>\n",
       "      <td>9501</td>\n",
       "      <td>142.0</td>\n",
       "      <td>55.485915</td>\n",
       "      <td>9.761508</td>\n",
       "      <td>31.0</td>\n",
       "      <td>49.00</td>\n",
       "      <td>55.0</td>\n",
       "      <td>63.0</td>\n",
       "      <td>79.0</td>\n",
       "    </tr>\n",
       "  </tbody>\n",
       "</table>\n",
       "</div>"
      ],
      "text/plain": [
       "      count       mean       std   min    25%   50%   75%   max\n",
       "sn                                                             \n",
       "9003  424.0  59.945755  9.841985  30.0  53.75  60.0  67.0  90.0\n",
       "9501  142.0  55.485915  9.761508  31.0  49.00  55.0  63.0  79.0"
      ]
     },
     "execution_count": 71,
     "metadata": {},
     "output_type": "execute_result"
    }
   ],
   "source": [
    "# 2.3\n",
    "df.groupby('sn')['age'].describe()"
   ]
  },
  {
   "cell_type": "code",
   "execution_count": 72,
   "metadata": {},
   "outputs": [
    {
     "name": "stdout",
     "output_type": "stream",
     "text": [
      "25th percentile for Age (Q1): 52.0\n",
      "50th percentile for Age (Q2): 59.0\n",
      "75th percentile for Age (Q3): 66.0\n",
      "IQR: 14.0\n"
     ]
    }
   ],
   "source": [
    "# 2.4\n",
    "q1 = df['age'].quantile(.25)\n",
    "q2 = df['age'].quantile(.5)\n",
    "q3 = df['age'].quantile(.75)\n",
    "\n",
    "print(f\"25th percentile for Age (Q1): {q1}\")\n",
    "print(f\"50th percentile for Age (Q2): {q2}\")\n",
    "print(f\"75th percentile for Age (Q3): {q3}\")\n",
    "\n",
    "# iqr = q3 - q1\n",
    "print(f\"IQR: {iqr(df['age'])}\")"
   ]
  },
  {
   "cell_type": "code",
   "execution_count": 73,
   "metadata": {},
   "outputs": [
    {
     "data": {
      "text/plain": [
       "sn    race           \n",
       "9003  white              72.877358\n",
       "      black              20.047170\n",
       "      hispanic            5.188679\n",
       "      oriental            0.943396\n",
       "      other               0.707547\n",
       "      native_american     0.235849\n",
       "9501  white              71.126761\n",
       "      black              23.239437\n",
       "      hispanic            4.225352\n",
       "      native_american     0.704225\n",
       "      oriental            0.704225\n",
       "Name: race, dtype: float64"
      ]
     },
     "execution_count": 73,
     "metadata": {},
     "output_type": "execute_result"
    }
   ],
   "source": [
    "# 2.5 - higher percent of Native Americans in the 9501 study\n",
    "\n",
    "# percent of each value count\n",
    "df.groupby('sn')['race'].value_counts(normalize=True) * 100"
   ]
  },
  {
   "cell_type": "code",
   "execution_count": 74,
   "metadata": {},
   "outputs": [
    {
     "data": {
      "text/plain": [
       "<matplotlib.axes._subplots.AxesSubplot at 0x11bf1a9e8>"
      ]
     },
     "execution_count": 74,
     "metadata": {},
     "output_type": "execute_result"
    },
    {
     "data": {
      "image/png": "[encoded data removed]",
      "text/plain": [
       "<Figure size 432x288 with 1 Axes>"
      ]
     },
     "metadata": {
      "needs_background": "light"
     },
     "output_type": "display_data"
    }
   ],
   "source": [
    "# 2.6 \n",
    "df.boxplot(column=['age'], by='sn')"
   ]
  },
  {
   "cell_type": "code",
   "execution_count": 75,
   "metadata": {},
   "outputs": [
    {
     "data": {
      "text/plain": [
       "Text(0.5, 0, 'Age (years)')"
      ]
     },
     "execution_count": 75,
     "metadata": {},
     "output_type": "execute_result"
    },
    {
     "data": {
      "image/png": "[encoded data removed]",
      "text/plain": [
       "<Figure size 432x288 with 1 Axes>"
      ]
     },
     "metadata": {
      "needs_background": "light"
     },
     "output_type": "display_data"
    }
   ],
   "source": [
    "# 2.7\n",
    "\n",
    "ax = df['age'].plot(kind='hist', title='Age for all Patients', bins=20)\n",
    "ax.set_xlabel(\"Age (years)\")"
   ]
  },
  {
   "cell_type": "code",
   "execution_count": 76,
   "metadata": {},
   "outputs": [
    {
     "data": {
      "text/plain": [
       "Text(0, 0.5, 'Frequency')"
      ]
     },
     "execution_count": 76,
     "metadata": {},
     "output_type": "execute_result"
    },
    {
     "data": {
      "image/png": "[encoded data removed]",
      "text/plain": [
       "<Figure size 432x288 with 2 Axes>"
      ]
     },
     "metadata": {
      "needs_background": "light"
     },
     "output_type": "display_data"
    }
   ],
   "source": [
    "ax_1, ax_2 = df['age'].hist(by=df['sn'], bins=40)\n",
    "ax_1.set_xlabel(\"Age (years)\")\n",
    "ax_2.set_xlabel(\"Age (years)\")\n",
    "ax_1.set_ylabel(\"Frequency\")"
   ]
  },
  {
   "cell_type": "markdown",
   "metadata": {},
   "source": [
    "**2.8**\n",
    "\n",
    "Study 9003 can be described as a normal distribution with a mean of 60 years of age and a standard deviation of 9.8.  Study 9501 may be described as a bimodal distribution, suggestion that two groups are present, with a mean of 55.5 years of age and a standard deviation of 9.8."
   ]
  },
  {
   "cell_type": "markdown",
   "metadata": {},
   "source": [
    "## **Part B:** Complete the following problems using the methods we learned in class. "
   ]
  },
  {
   "cell_type": "markdown",
   "metadata": {},
   "source": [
    "1. A tetrapeptide (a compound consisting of 4 amino acids linked in a chain) has the following amino acid composition: alanine (A), glutamic acid (G), lysine (L), and histidine (H). For example, ALGH and LGHA are two possible chains that can be constructed from these amino acids.  \n",
    "\n",
    "(a)\tDraw a tree diagram to represent the 24 ways in which these amino acids can form a tetrapeptide.\n",
    "\n",
    "(b)\tIf each chain is equally likely, what is the probability of finding A at either end of the chain?\n",
    "\n",
    "(6+2+2+2)/24 = 12/24 = .5\n",
    "\n",
    "(c)\tWhat is the probability that lysine is not found at either end of the chain?\n",
    "\n",
    "(4+4+0+4)/24 = 12/24 = .5"
   ]
  },
  {
   "cell_type": "markdown",
   "metadata": {},
   "source": [
    "2. In guinea pigs, long hair (L) is dominant to short hair (l), and black fur (B) is dominant to albino fur (b). Answer the following questions.\n",
    "\n",
    "(a) What are the possible genotypes of the offspring of a black haired parent and an albino, and the probability of each genotype?\n",
    "\n",
    "If considering the fur color alleles (Bb) alone:\n",
    "- Bb (Black fur): 6/8 = .75\n",
    "- bb (albino fur):  2/8 = .25\n",
    "If considering both fur color (Bb) and hair length (Ll) alleles:\n",
    "- BbLL: .1875\n",
    "- BbLl: .375\n",
    "- Bbll: .1875\n",
    "- bbLL: .0625\n",
    "- bbLl: .125\n",
    "- bbll: .0625\n",
    "\n",
    "(b) If two longhaired parents are mated, what is the probability of a short-haired offspring?\n",
    "\n",
    "1/16 = .0625\n"
   ]
  },
  {
   "cell_type": "markdown",
   "metadata": {},
   "source": [
    "3. Toxicity monitoring is very important for patients receiving cancer treatment and mandatory in clinical trials. For example, breast cancer patients receiving HER2 targeted therapy may have a 10% probability to have cardiac toxicity. Such toxicity is closely monitored. A study will enroll 30 patients with such conditions. \n",
    "\n",
    "(a)\tWhy is this a suitable problem to apply the binomial distribution theory? \n",
    "\n",
    "This problem is suitable for the application of the binomial distribution theory because the process here (patients are being provided cancer treatment) is being recorded a specific number of times (n = 30 patients) and the outcome for a given event has just two levels, either success (cardiac toxicity) or failure (no cardiac toxicity).\n",
    "\n",
    "(b)\tWhat is the probability of observing one patient with a cardiac event among the 30 patients? \n",
    "\n",
    "(c)\tWhat is the probability that at least one patients having cardiac events among the 30? \n",
    "\n",
    "(d)\tWhat is the probability that at least two patients having cardiac events among the 30? \n"
   ]
  },
  {
   "cell_type": "code",
   "execution_count": 77,
   "metadata": {},
   "outputs": [
    {
     "data": {
      "text/plain": [
       "0.14130386091738767"
      ]
     },
     "execution_count": 77,
     "metadata": {},
     "output_type": "execute_result"
    }
   ],
   "source": [
    "# (b) What is the probability of observing one patient with a cardiac event among the 30 patients? \n",
    "\n",
    "rv = binom(30,.1)\n",
    "rv.pmf(1)"
   ]
  },
  {
   "cell_type": "code",
   "execution_count": 78,
   "metadata": {},
   "outputs": [
    {
     "data": {
      "text/plain": [
       "0.9576088417247838"
      ]
     },
     "execution_count": 78,
     "metadata": {},
     "output_type": "execute_result"
    }
   ],
   "source": [
    "# (c) What is the probability that at least one patients having cardiac events among the 30?\n",
    "\n",
    "1 - rv.pmf(0)"
   ]
  },
  {
   "cell_type": "code",
   "execution_count": 79,
   "metadata": {},
   "outputs": [
    {
     "data": {
      "text/plain": [
       "0.8163049808073961"
      ]
     },
     "execution_count": 79,
     "metadata": {},
     "output_type": "execute_result"
    }
   ],
   "source": [
    "# (d) What is the probability that at least two patients having cardiac events among the 30? \n",
    "\n",
    "1 - (rv.pmf(0) + rv.pmf(1))"
   ]
  },
  {
   "cell_type": "markdown",
   "metadata": {},
   "source": [
    "4. Pagano, page 193 #12: \n",
    "\n",
    "According to the Behavioral Risk Factor Surveillance System, 58% of all Americans adhere to a sedentary lifestyle.\n",
    "\n",
    "(a) If you selected repeated samples of size twelve from the U.S. population, what would be the mean number of individuals per sample who do not exercise regularly? What would be the standard deviation?\n",
    "\n",
    "(b) Suppose that you select a sample of twelve individuals and find that ten of them do not exercise regularly. Assuming that the Surveillance System is correct, what is the probability that you would have obtained results as bad as or worse than those you observed?\n",
    "\n",
    "(c) Also explain why the binomial distribution is suitable here. \n",
    "\n",
    "This situation is suitable for applying binomial distribution theory because the process (observing if an individuals regularity of exercise) is being reported a specific number of times (n=12) and the outcome is a categorical variable with just two outcomes (success = do NOT exercise regularly, failure = exercise regularly).\n"
   ]
  },
  {
   "cell_type": "code",
   "execution_count": 80,
   "metadata": {},
   "outputs": [],
   "source": [
    "# 4a, n=12, p=.58\n",
    "rv = binom(12,.58)"
   ]
  },
  {
   "cell_type": "code",
   "execution_count": 81,
   "metadata": {},
   "outputs": [
    {
     "data": {
      "text/plain": [
       "6.959999999999999"
      ]
     },
     "execution_count": 81,
     "metadata": {},
     "output_type": "execute_result"
    }
   ],
   "source": [
    "rv.mean()"
   ]
  },
  {
   "cell_type": "code",
   "execution_count": 82,
   "metadata": {},
   "outputs": [
    {
     "data": {
      "text/plain": [
       "1.709736821853001"
      ]
     },
     "execution_count": 82,
     "metadata": {},
     "output_type": "execute_result"
    }
   ],
   "source": [
    "rv.std()"
   ]
  },
  {
   "cell_type": "code",
   "execution_count": 83,
   "metadata": {},
   "outputs": [
    {
     "data": {
      "text/plain": [
       "0.06419844291214925"
      ]
     },
     "execution_count": 83,
     "metadata": {},
     "output_type": "execute_result"
    }
   ],
   "source": [
    "# 4b >=10 individuals with sedentary lifestyle\n",
    "\n",
    "# sum the probabilities of observing 10, 11, and 12 individuals w/ sedentary lifestyle\n",
    "rv.pmf(10) + rv.pmf(11) + rv.pmf(12)"
   ]
  },
  {
   "cell_type": "markdown",
   "metadata": {},
   "source": [
    "5. Pagano, page 194 #18: \n",
    "\n",
    "Among females in the United States between 18 and 74 years of age, diastolic blood pressure is normally distributed with mean µ = 77 mm Hg and standard deviation σ = 11.6 mm Hg.  \n",
    "\n",
    "(a) What is the probability that a randomly selected woman has a diastolic blood pressure less than 60 mm Hg?  \n",
    "(b) What is the probability that she has a diastolic blood pressure greater than 90 mm Hg?  \n",
    "(c) What is the probability that she has a diastolic blood pressure between 60 and 90 mm Hg?  \n",
    "(d) Find the upper and lower bounds of diastolic blood pressure between which 90% of the women find their diastolic blood pressure values.  "
   ]
  },
  {
   "cell_type": "code",
   "execution_count": 84,
   "metadata": {},
   "outputs": [
    {
     "data": {
      "text/plain": [
       "0.0713899259455208"
      ]
     },
     "execution_count": 84,
     "metadata": {},
     "output_type": "execute_result"
    }
   ],
   "source": [
    "# 5a - create normal distrubution, find P(X<60) = .0708\n",
    "mu = 77\n",
    "sigma = 11.6\n",
    "\n",
    "dist = norm(mu,sigma)\n",
    "# apply cumulative distribution function at 60 mm Hg\n",
    "dist.cdf(60)"
   ]
  },
  {
   "cell_type": "code",
   "execution_count": 85,
   "metadata": {},
   "outputs": [
    {
     "data": {
      "text/plain": [
       "0.13120999355148633"
      ]
     },
     "execution_count": 85,
     "metadata": {},
     "output_type": "execute_result"
    }
   ],
   "source": [
    "# 5b\n",
    "1 - dist.cdf(90)"
   ]
  },
  {
   "cell_type": "code",
   "execution_count": 86,
   "metadata": {},
   "outputs": [
    {
     "data": {
      "text/plain": [
       "0.7974000805029928"
      ]
     },
     "execution_count": 86,
     "metadata": {},
     "output_type": "execute_result"
    }
   ],
   "source": [
    "# 5c\n",
    "(dist.cdf(90)) - dist.cdf(60)"
   ]
  },
  {
   "cell_type": "code",
   "execution_count": 87,
   "metadata": {},
   "outputs": [
    {
     "data": {
      "text/plain": [
       "(57.91969792736292, 96.08030207263708)"
      ]
     },
     "execution_count": 87,
     "metadata": {},
     "output_type": "execute_result"
    }
   ],
   "source": [
    "# 5d\n",
    "dist.interval(.9)"
   ]
  }
 ],
 "metadata": {
  "kernelspec": {
   "display_name": "pbio_env",
   "language": "python",
   "name": "pbio_env"
  },
  "language_info": {
   "codemirror_mode": {
    "name": "ipython",
    "version": 3
   },
   "file_extension": ".py",
   "mimetype": "text/x-python",
   "name": "python",
   "nbconvert_exporter": "python",
   "pygments_lexer": "ipython3",
   "version": "3.7.3"
  }
 },
 "nbformat": 4,
 "nbformat_minor": 2
}
