{
 "cells": [
  {
   "cell_type": "code",
   "execution_count": 1,
   "metadata": {},
   "outputs": [],
   "source": [
    "import numpy as np"
   ]
  },
  {
   "cell_type": "markdown",
   "metadata": {},
   "source": [
    "# HW 6"
   ]
  },
  {
   "cell_type": "markdown",
   "metadata": {},
   "source": [
    "Q1.) What is the prevalence ratio (PeR) of low birth weight babies among nicotine detected group and among nicotine not detected group\n"
   ]
  },
  {
   "cell_type": "code",
   "execution_count": 2,
   "metadata": {},
   "outputs": [
    {
     "data": {
      "text/plain": [
       "2.709090909090909"
      ]
     },
     "execution_count": 2,
     "metadata": {},
     "output_type": "execute_result"
    }
   ],
   "source": [
    "# PeR of low birth weight, nicotine detected\n",
    "per_nicotine = (20/25)/(88/298)\n",
    "per_nicotine"
   ]
  },
  {
   "cell_type": "code",
   "execution_count": 3,
   "metadata": {},
   "outputs": [
    {
     "data": {
      "text/plain": [
       "0.28380952380952384"
      ]
     },
     "execution_count": 3,
     "metadata": {},
     "output_type": "execute_result"
    }
   ],
   "source": [
    "# PeR of low birth weight, no nicotine detected\n",
    "per_noNicotine = (5/25)/(210/298)\n",
    "per_noNicotine"
   ]
  },
  {
   "cell_type": "markdown",
   "metadata": {},
   "source": [
    "Q2.) Is there a relationship between this potential agent and the outcome? – explain your conclusion.\n",
    "\n",
    "To determine if there is a relationship between this potential agent (nicotine) and the outcome (low birth weight) we can utilize Hill's criteria for evaluating evidence for causal associations.  First, there appears to be a strong association between the agent and outcome (PeR=.8).  Second, there appears to be a direct link between the agent and the outcome in that nicotine induces fetal hypoxia, which reduces fetal birth weight.  Third, the temporal sequence of events is maintained because the exposure to nicotine preceeds the development of low birth weight.  Fourth, the consistency across studies is difficult to get at in this case because a single study is presented (though a brief literature search yields similar findings).  Fifth, the dose-response relationship cannot be addressed with the data provided here because the study is only broken down into low and normal birthweights by +/- nicotine in blood (would be helpful if the levels of nicotine and the birth weights were provided), though a dose-response pattern has been noted in the literature.  Sixth, the biological plausibility calls back the second of Hill's criteria in that the affect of nicotine having a biological affect on birth weight is plausible given that nicotine leads to fetal hypoxia and reduces birth weight.  And finally, the experimental evidence here does suggest that nicotine exposure leads to an increased risk of low birth weight."
   ]
  },
  {
   "cell_type": "markdown",
   "metadata": {},
   "source": [
    "2. A cross-sectional study investigated the association of sugar intake with Type II diabetes for 300,000 men (age range 50-71).\n",
    "\n",
    "Sugar intake was estimated from food frequency questionnaires (self-reported frequency and amount of regularly consumed foods).\n",
    " \n",
    "Based on the reported amount of sugar intake, the participants were divided into three groups corresponding to the tertiles (labeled T1, T2, and T3) of the distribution of sugar intake.\n",
    "Hint: These groups have equal sample sizes.\n",
    " \n",
    "Note that group T1 includes men who consumed the lowest amount of sugar and group T3 includes those with the highest amount of sugar.\n",
    " \n",
    "The numbers of men with diabetes were recorded as follows (we assume no missing information):\n",
    " \n",
    "* T1 (low sugar)   6,000/100,000 with diabetes\n",
    "* T2 (med sugar)   9,500/100,000 with diabetes\n",
    "* T3 (high sugar)  14,000/100,000 with diabetes"
   ]
  },
  {
   "cell_type": "markdown",
   "metadata": {},
   "source": [
    "Q1.) Set up two 2x2 tables for the association of sugar intake and diabetes, where group T1 is considered the referent group.\n",
    "\n",
    "Hint: The exposed group is T2 in the first table, and T3 in the second table.\n"
   ]
  },
  {
   "cell_type": "markdown",
   "metadata": {},
   "source": [
    "Q2.) For each of these two tables calculate and interpret the PeR and corresponding 95% CI."
   ]
  },
  {
   "cell_type": "markdown",
   "metadata": {},
   "source": [
    "### Table 1"
   ]
  },
  {
   "cell_type": "code",
   "execution_count": 4,
   "metadata": {},
   "outputs": [
    {
     "data": {
      "text/plain": [
       "1.5833333333333335"
      ]
     },
     "execution_count": 4,
     "metadata": {},
     "output_type": "execute_result"
    }
   ],
   "source": [
    "# table_1.png PeR\n",
    "per = (9500/100000)/(6000/100000)\n",
    "per"
   ]
  },
  {
   "cell_type": "code",
   "execution_count": 5,
   "metadata": {},
   "outputs": [
    {
     "data": {
      "text/plain": [
       "1.6333643118968255"
      ]
     },
     "execution_count": 5,
     "metadata": {},
     "output_type": "execute_result"
    }
   ],
   "source": [
    "# table_1.png CI\n",
    "# upper CI\n",
    "v = np.sqrt(((90500/9500)/(100000))+((94000/6000)/(100000)))\n",
    "raised = (np.log(per) + (1.96 * v))\n",
    "upper_ci = np.power(2.718281, raised)\n",
    "upper_ci"
   ]
  },
  {
   "cell_type": "code",
   "execution_count": 6,
   "metadata": {},
   "outputs": [
    {
     "data": {
      "text/plain": [
       "1.5348344052666318"
      ]
     },
     "execution_count": 6,
     "metadata": {},
     "output_type": "execute_result"
    }
   ],
   "source": [
    "# lower CI\n",
    "v = np.sqrt(((90500/9500)/(100000))+((94000/6000)/(100000)))\n",
    "raised = (np.log(per) - (1.96 * v))\n",
    "lower_ci = np.power(2.718281, raised)\n",
    "lower_ci"
   ]
  },
  {
   "cell_type": "markdown",
   "metadata": {},
   "source": [
    "### Table 2"
   ]
  },
  {
   "cell_type": "code",
   "execution_count": 7,
   "metadata": {},
   "outputs": [
    {
     "data": {
      "text/plain": [
       "2.3333333333333335"
      ]
     },
     "execution_count": 7,
     "metadata": {},
     "output_type": "execute_result"
    }
   ],
   "source": [
    "# table_2.png PeR\n",
    "per = (14000/100000)/(6000/100000)\n",
    "per"
   ]
  },
  {
   "cell_type": "code",
   "execution_count": 8,
   "metadata": {},
   "outputs": [
    {
     "data": {
      "text/plain": [
       "2.4018588710639706"
      ]
     },
     "execution_count": 8,
     "metadata": {},
     "output_type": "execute_result"
    }
   ],
   "source": [
    "# table_1.png CI\n",
    "# upper CI\n",
    "v = np.sqrt(((86000/14000)/(100000))+((94000/6000)/(100000)))\n",
    "raised = (np.log(per) + (1.96 * v))\n",
    "upper_ci = np.power(2.718281, raised)\n",
    "upper_ci"
   ]
  },
  {
   "cell_type": "code",
   "execution_count": 9,
   "metadata": {},
   "outputs": [
    {
     "data": {
      "text/plain": [
       "2.2667616728690234"
      ]
     },
     "execution_count": 9,
     "metadata": {},
     "output_type": "execute_result"
    }
   ],
   "source": [
    "# lower CI\n",
    "v = np.sqrt(((86000/14000)/(100000))+((94000/6000)/(100000)))\n",
    "raised = (np.log(per) - (1.96 * v))\n",
    "lower_ci = np.power(2.718281, raised)\n",
    "lower_ci"
   ]
  }
 ],
 "metadata": {
  "kernelspec": {
   "display_name": "pbio_env",
   "language": "python",
   "name": "pbio_env"
  },
  "language_info": {
   "codemirror_mode": {
    "name": "ipython",
    "version": 3
   },
   "file_extension": ".py",
   "mimetype": "text/x-python",
   "name": "python",
   "nbconvert_exporter": "python",
   "pygments_lexer": "ipython3",
   "version": "3.7.3"
  }
 },
 "nbformat": 4,
 "nbformat_minor": 4
}
