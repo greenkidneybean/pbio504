{
 "cells": [
  {
   "cell_type": "markdown",
   "metadata": {},
   "source": [
    "# HW 5\n",
    "## Part A - Gestational age and birth weight"
   ]
  },
  {
   "cell_type": "code",
   "execution_count": 3,
   "metadata": {},
   "outputs": [],
   "source": [
    "import pandas as pd\n",
    "from scipy import stats\n",
    "import numpy as np\n",
    "import seaborn as sns\n",
    "import matplotlib.pyplot as plt\n",
    "\n",
    "%matplotlib inline"
   ]
  },
  {
   "cell_type": "code",
   "execution_count": 54,
   "metadata": {},
   "outputs": [
    {
     "data": {
      "text/html": [
       "<div>\n",
       "<style scoped>\n",
       "    .dataframe tbody tr th:only-of-type {\n",
       "        vertical-align: middle;\n",
       "    }\n",
       "\n",
       "    .dataframe tbody tr th {\n",
       "        vertical-align: top;\n",
       "    }\n",
       "\n",
       "    .dataframe thead th {\n",
       "        text-align: right;\n",
       "    }\n",
       "</style>\n",
       "<table border=\"1\" class=\"dataframe\">\n",
       "  <thead>\n",
       "    <tr style=\"text-align: right;\">\n",
       "      <th></th>\n",
       "      <th>gestage</th>\n",
       "      <th>bwt</th>\n",
       "    </tr>\n",
       "  </thead>\n",
       "  <tbody>\n",
       "    <tr>\n",
       "      <td>0</td>\n",
       "      <td>30</td>\n",
       "      <td>1820</td>\n",
       "    </tr>\n",
       "    <tr>\n",
       "      <td>1</td>\n",
       "      <td>31</td>\n",
       "      <td>1900</td>\n",
       "    </tr>\n",
       "    <tr>\n",
       "      <td>2</td>\n",
       "      <td>32</td>\n",
       "      <td>2210</td>\n",
       "    </tr>\n",
       "    <tr>\n",
       "      <td>3</td>\n",
       "      <td>33</td>\n",
       "      <td>2250</td>\n",
       "    </tr>\n",
       "    <tr>\n",
       "      <td>4</td>\n",
       "      <td>34</td>\n",
       "      <td>2500</td>\n",
       "    </tr>\n",
       "  </tbody>\n",
       "</table>\n",
       "</div>"
      ],
      "text/plain": [
       "   gestage   bwt\n",
       "0       30  1820\n",
       "1       31  1900\n",
       "2       32  2210\n",
       "3       33  2250\n",
       "4       34  2500"
      ]
     },
     "execution_count": 54,
     "metadata": {},
     "output_type": "execute_result"
    }
   ],
   "source": [
    "df = pd.read_excel('data_birth-weight_gestational-age.xls')\n",
    "df.head()"
   ]
  },
  {
   "cell_type": "code",
   "execution_count": 55,
   "metadata": {},
   "outputs": [
    {
     "data": {
      "text/plain": [
       "<matplotlib.axes._subplots.AxesSubplot at 0x11d2dc3c8>"
      ]
     },
     "execution_count": 55,
     "metadata": {},
     "output_type": "execute_result"
    },
    {
     "data": {
      "image/png": "[encoded data removed]",
      "text/plain": [
       "<Figure size 432x288 with 1 Axes>"
      ]
     },
     "metadata": {
      "needs_background": "light"
     },
     "output_type": "display_data"
    }
   ],
   "source": [
    "sns.regplot('gestage','bwt', data=df)"
   ]
  },
  {
   "cell_type": "code",
   "execution_count": 56,
   "metadata": {},
   "outputs": [
    {
     "name": "stdout",
     "output_type": "stream",
     "text": [
      "slope: 175.36333052985702\n",
      "intercept: -3431.179562657696\n",
      "r_value: 0.9926217578142985\n",
      "p_value: 5.991943871683597e-18\n",
      "std_err: 5.049026258850359\n",
      "r_sqr: 0.9852979540863479\n",
      "t_test: 34.732109032403095\n"
     ]
    }
   ],
   "source": [
    "slope, intercept, r_value, p_value, std_err = stats.linregress(df['gestage'], df['bwt'])\n",
    "r_sqr = r_value**2\n",
    "t_test = (r_value*(np.sqrt(20-2)))/(np.sqrt(1-r_sqr))\n",
    "print(f\"slope: {slope}\")\n",
    "print(f\"intercept: {intercept}\")\n",
    "print(f\"r_value: {r_value}\")\n",
    "print(f\"p_value: {p_value}\")\n",
    "print(f\"std_err: {std_err}\")\n",
    "print(f\"r_sqr: {r_sqr}\")\n",
    "print(f\"t_test: {t_test}\")"
   ]
  },
  {
   "cell_type": "code",
   "execution_count": 17,
   "metadata": {},
   "outputs": [
    {
     "data": {
      "text/plain": [
       "3232.626997476871"
      ]
     },
     "execution_count": 17,
     "metadata": {},
     "output_type": "execute_result"
    }
   ],
   "source": [
    "# predict weight at 38 wks\n",
    "y = (slope * 38) + (intercept)\n",
    "y"
   ]
  },
  {
   "cell_type": "markdown",
   "metadata": {},
   "source": [
    "## Part B - Lead and iron data"
   ]
  },
  {
   "cell_type": "code",
   "execution_count": 57,
   "metadata": {},
   "outputs": [
    {
     "data": {
      "text/html": [
       "<div>\n",
       "<style scoped>\n",
       "    .dataframe tbody tr th:only-of-type {\n",
       "        vertical-align: middle;\n",
       "    }\n",
       "\n",
       "    .dataframe tbody tr th {\n",
       "        vertical-align: top;\n",
       "    }\n",
       "\n",
       "    .dataframe thead th {\n",
       "        text-align: right;\n",
       "    }\n",
       "</style>\n",
       "<table border=\"1\" class=\"dataframe\">\n",
       "  <thead>\n",
       "    <tr style=\"text-align: right;\">\n",
       "      <th></th>\n",
       "      <th>study</th>\n",
       "      <th>iron</th>\n",
       "      <th>lead</th>\n",
       "    </tr>\n",
       "  </thead>\n",
       "  <tbody>\n",
       "    <tr>\n",
       "      <td>0</td>\n",
       "      <td>1</td>\n",
       "      <td>17</td>\n",
       "      <td>8</td>\n",
       "    </tr>\n",
       "    <tr>\n",
       "      <td>1</td>\n",
       "      <td>1</td>\n",
       "      <td>22</td>\n",
       "      <td>17</td>\n",
       "    </tr>\n",
       "    <tr>\n",
       "      <td>2</td>\n",
       "      <td>1</td>\n",
       "      <td>35</td>\n",
       "      <td>18</td>\n",
       "    </tr>\n",
       "    <tr>\n",
       "      <td>3</td>\n",
       "      <td>1</td>\n",
       "      <td>43</td>\n",
       "      <td>25</td>\n",
       "    </tr>\n",
       "    <tr>\n",
       "      <td>4</td>\n",
       "      <td>1</td>\n",
       "      <td>80</td>\n",
       "      <td>58</td>\n",
       "    </tr>\n",
       "  </tbody>\n",
       "</table>\n",
       "</div>"
      ],
      "text/plain": [
       "   study  iron  lead\n",
       "0      1    17     8\n",
       "1      1    22    17\n",
       "2      1    35    18\n",
       "3      1    43    25\n",
       "4      1    80    58"
      ]
     },
     "execution_count": 57,
     "metadata": {},
     "output_type": "execute_result"
    }
   ],
   "source": [
    "df = pd.read_excel('data_lead-iron-exercise.xls')\n",
    "df.head()"
   ]
  },
  {
   "cell_type": "code",
   "execution_count": 58,
   "metadata": {},
   "outputs": [
    {
     "data": {
      "text/plain": [
       "<seaborn.axisgrid.FacetGrid at 0x11d043da0>"
      ]
     },
     "execution_count": 58,
     "metadata": {},
     "output_type": "execute_result"
    },
    {
     "data": {
      "image/png": "[encoded data removed]",
      "text/plain": [
       "<Figure size 720x360 with 2 Axes>"
      ]
     },
     "metadata": {
      "needs_background": "light"
     },
     "output_type": "display_data"
    }
   ],
   "source": [
    "sns.lmplot(x=\"iron\", y=\"lead\", col=\"study\", hue=\"study\", data=df)"
   ]
  },
  {
   "cell_type": "code",
   "execution_count": 44,
   "metadata": {},
   "outputs": [],
   "source": [
    "df_1 = df[df['study'] == 1]\n",
    "df_2 = df[df['study'] == 2]"
   ]
  },
  {
   "cell_type": "code",
   "execution_count": 50,
   "metadata": {},
   "outputs": [
    {
     "name": "stdout",
     "output_type": "stream",
     "text": [
      "slope: 0.5489953873817528\n",
      "intercept: 0.18681885700883072\n",
      "r_value: 0.9169618662635284\n",
      "p_value: 7.107406559315676e-05\n",
      "std_err: 0.07962357859927682\n",
      "r_sqr: 0.8408190641814929\n",
      "t_test: 9.750839338971854\n"
     ]
    }
   ],
   "source": [
    "# study 1 values\n",
    "slope, intercept, r_value, p_value, std_err = stats.linregress(df_1['iron'], df_1['lead'])\n",
    "r_sqr = r_value**2\n",
    "t_test = (r_value*(np.sqrt(20-2)))/(np.sqrt(1-r_sqr))\n",
    "print(f\"slope: {slope}\")\n",
    "print(f\"intercept: {intercept}\")\n",
    "print(f\"r_value: {r_value}\")\n",
    "print(f\"p_value: {p_value}\")\n",
    "print(f\"std_err: {std_err}\")\n",
    "print(f\"r_sqr: {r_sqr}\")\n",
    "print(f\"t_test: {t_test}\")"
   ]
  },
  {
   "cell_type": "code",
   "execution_count": 51,
   "metadata": {},
   "outputs": [
    {
     "name": "stdout",
     "output_type": "stream",
     "text": [
      "slope: 0.5208035675628867\n",
      "intercept: 13.50175347447722\n",
      "r_value: 0.9353953929175275\n",
      "p_value: 2.3601232356618565e-05\n",
      "std_err: 0.06562571761905402\n",
      "r_sqr: 0.8749645410913356\n",
      "t_test: 11.223152984857887\n"
     ]
    }
   ],
   "source": [
    "# study 2 values\n",
    "slope, intercept, r_value, p_value, std_err = stats.linregress(df_2['iron'], df_2['lead'])\n",
    "r_sqr = r_value**2\n",
    "t_test = (r_value*(np.sqrt(20-2)))/(np.sqrt(1-r_sqr))\n",
    "print(f\"slope: {slope}\")\n",
    "print(f\"intercept: {intercept}\")\n",
    "print(f\"r_value: {r_value}\")\n",
    "print(f\"p_value: {p_value}\")\n",
    "print(f\"std_err: {std_err}\")\n",
    "print(f\"r_sqr: {r_sqr}\")\n",
    "print(f\"t_test: {t_test}\")"
   ]
  }
 ],
 "metadata": {
  "kernelspec": {
   "display_name": "Python 3",
   "language": "python",
   "name": "python3"
  },
  "language_info": {
   "codemirror_mode": {
    "name": "ipython",
    "version": 3
   },
   "file_extension": ".py",
   "mimetype": "text/x-python",
   "name": "python",
   "nbconvert_exporter": "python",
   "pygments_lexer": "ipython3",
   "version": "3.7.3"
  }
 },
 "nbformat": 4,
 "nbformat_minor": 4
}
